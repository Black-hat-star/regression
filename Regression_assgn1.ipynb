{
 "cells": [
  {
   "cell_type": "raw",
   "id": "60c5ecc8-3fcc-47dd-bb73-150dd3cc3a0f",
   "metadata": {},
   "source": [
    "1)In simple linear regression there is scenario of single independent variable where the equation is given by y=mx+c for eg the size of room with house rent.\n",
    "In multliple linear regresion there is more than multliple independent variable where the equation is given by y=m1x1+m2x2+m3x3+......+mnxn+c   for e.g size of room,place of the apartment,with house rent"
   ]
  },
  {
   "cell_type": "raw",
   "id": "a0098934-b1fb-4909-8237-ac3b65eaca8e",
   "metadata": {},
   "source": [
    "2)The assumption of linear regression is that it take into consideration that the dependent and independent features are linearly distributes across the graph.\n",
    "The residuals (the differences between the observed and predicted values) should be independent of each other. In other words, the value of the dependent variable for one observation should not be influenced by the value of the dependent variable for any other observation.\n",
    "To check whether these assumptions hold in\n",
    "a given dataset:-\n",
    "Visual Inspection of Data:\n",
    "\n",
    "Plot scatter plots: Create scatter plots of the dependent variable against each independent variable. Look for a linear pattern or any obvious non-linear relationships.\n",
    "Examine the linearity: Ensure that the relationship between the variables appears to be roughly linear\n",
    "Visual Inspection of Data:\n",
    "\n",
    "Plot scatter plots: Create scatter plots of the dependent variable against each independent variable. Look for a linear pattern or any obvious non-linear relationships.\n",
    "Examine the linearity: Ensure that the relationship between the variables appears to be roughly linear\n",
    "\n"
   ]
  },
  {
   "cell_type": "raw",
   "id": "d8482134-80ae-470a-bf8b-93f634daeed8",
   "metadata": {},
   "source": [
    "3)We can interpret the slope by the cooficients of the independent variable and the intercept can be find by making the x (or the independetn variable) to be 0\n",
    "Scenario: Predicting House Prices\n",
    "\n",
    "Suppose you have a dataset with information about houses, and you want to predict the sale price (y) based on the square footage (\n",
    "x) of the house. You perform a linear regression analysis and obtain the equation:\n",
    "\n",
    "Sale Price=150×Square Footage+50,000\n",
    "Sale Price=150×Square Footage+50,000"
   ]
  },
  {
   "cell_type": "raw",
   "id": "cf021893-6a09-414f-bb4e-6412a1ae6b05",
   "metadata": {},
   "source": [
    "4)Gradient descentdant is used to minimize the cost function in ml models,it can be achieved by movinf iteratively towards the minimum cost function by adjusting the cost paramtres "
   ]
  },
  {
   "cell_type": "raw",
   "id": "d193a0b9-16cb-4639-a2d8-7e13964f3fc8",
   "metadata": {},
   "source": [
    "5)Multliple linear regression model is used when there is presence of multliple independent features ,It is different from simple linear regression model because in simple one there is only."
   ]
  },
  {
   "cell_type": "raw",
   "id": "d861d788-95cb-423a-8177-2958d394511e",
   "metadata": {},
   "source": [
    "6)Multicollinearity is a phenomenon occurs in multiregression model when two or more of its independent feature are highly coorelated to each other.\n",
    "we can detect this by correlation matrix\n",
    "we can adress the multicolinearity by:-\n",
    "Increase Sample Size:\n",
    "\n",
    "Sometimes, increasing the sample size can help alleviate multicollinearity issues, especially if the correlation between variables is driven by a small subset of the data.\n",
    "Principal Component Analysis (PCA):\n",
    "\n",
    "PCA is a dimensionality reduction technique that can be used to transform correlated variables into a set of linearly uncorrelated variables (principal components). However, interpretation of the transformed variables becomes more challenging."
   ]
  },
  {
   "cell_type": "raw",
   "id": "72f6d74e-cdea-4291-b025-78479eafecbf",
   "metadata": {},
   "source": [
    "7)Polynomial regression model is when the best fit line is a curve and the independent variable and the dependent variable is modelled as an nth degreepolynomial"
   ]
  },
  {
   "cell_type": "raw",
   "id": "cef4c7d0-7246-41eb-aab7-64c67d267ce3",
   "metadata": {},
   "source": [
    "8)adv of polynomial regression data:-\n",
    "Captures Non-Linear Patterns:\n",
    "\n",
    "Polynomial regression can model and capture non-linear relationships between variables, allowing for a more accurate representation of complex patterns in the data.\n",
    "Increased Flexibility:\n",
    "\n",
    "With the ability to include higher-degree polynomial terms, polynomial regression is more flexible and versatile than linear regression. It can handle a wider range of data patterns.\n",
    "Better Fit to Data:\n",
    "\n",
    "When the relationship between variables is non-linear, polynomial regression can provide a better fit to the data compared to linear regression, which is limited to straight-line relationships.\n",
    "\n",
    "disadv of polynomial regression:-\n",
    "Overfitting Risk:\n",
    "\n",
    "Polynomial regression, especially with higher-degree polynomials, is prone to overfitting. The model may fit the training data too closely, capturing noise and fluctuations rather than the true underlying pattern. Regularization techniques can be applied to mitigate overfitting.\n",
    "Increased Complexity:\n",
    "\n",
    "As the degree of the polynomial increases, the model becomes more complex, making it harder to interpret. Higher-degree polynomials may introduce unnecessary complexity to the model.\n",
    "Data Sensitivity:\n",
    "\n",
    "The choice of the degree of the polynomial is crucial. Selecting an overly high degree may lead to poor generalization to new data, as the model may become too specific to the training set.\n",
    "\n"
   ]
  }
 ],
 "metadata": {
  "kernelspec": {
   "display_name": "Python 3 (ipykernel)",
   "language": "python",
   "name": "python3"
  },
  "language_info": {
   "codemirror_mode": {
    "name": "ipython",
    "version": 3
   },
   "file_extension": ".py",
   "mimetype": "text/x-python",
   "name": "python",
   "nbconvert_exporter": "python",
   "pygments_lexer": "ipython3",
   "version": "3.10.8"
  }
 },
 "nbformat": 4,
 "nbformat_minor": 5
}
